{
 "cells": [
  {
   "cell_type": "code",
   "execution_count": 1,
   "id": "e2fa3d93-c1b6-4cd0-b2c9-c6171a7e3313",
   "metadata": {},
   "outputs": [],
   "source": [
    "# 1.Ans\n",
    "str=\"Rishi\"\n",
    "str[::-1]"
   ]
  },
  {
   "cell_type": "code",
   "execution_count": 4,
   "id": "309ccaa8-0dbd-428e-a971-9a090f317d1d",
   "metadata": {},
   "outputs": [
    {
     "name": "stdout",
     "output_type": "stream",
     "text": [
      "Not a Palindrome\n"
     ]
    }
   ],
   "source": [
    "# 2.Ans\n",
    "str=\"Rishi\"\n",
    "if str==str[::-1]:\n",
    "    print(\"Given String is a Palindrome\")\n",
    "else:\n",
    "    print(\"Not a Palindrome\")"
   ]
  },
  {
   "cell_type": "code",
   "execution_count": 48,
   "id": "75e833d2-74b1-47ee-9793-a219ab04dd40",
   "metadata": {},
   "outputs": [
    {
     "data": {
      "text/plain": [
       "34"
      ]
     },
     "execution_count": 48,
     "metadata": {},
     "output_type": "execute_result"
    }
   ],
   "source": [
    "# 3.Ans\n",
    "list1=[2,3,4,5,6,12,34,12]\n",
    "max(list1)"
   ]
  },
  {
   "cell_type": "code",
   "execution_count": 49,
   "id": "a6326946-3fcc-4f62-8c45-9a2fc0a5388c",
   "metadata": {},
   "outputs": [
    {
     "name": "stdout",
     "output_type": "stream",
     "text": [
      "2 1\n",
      "3 1\n",
      "4 1\n",
      "5 1\n",
      "6 1\n",
      "12 2\n",
      "34 1\n",
      "12 2\n"
     ]
    }
   ],
   "source": [
    "for i in list1:\n",
    "    print(i,list1.count(i))"
   ]
  },
  {
   "cell_type": "code",
   "execution_count": 50,
   "id": "33db5c3e-e13a-49d7-bb69-aea4f8858db4",
   "metadata": {},
   "outputs": [
    {
     "data": {
      "text/plain": [
       "12"
      ]
     },
     "execution_count": 50,
     "metadata": {},
     "output_type": "execute_result"
    }
   ],
   "source": [
    "# 5.Ans\n",
    "list1.sort()\n",
    "list1[-2]"
   ]
  },
  {
   "cell_type": "code",
   "execution_count": 28,
   "id": "3154f20a-dfb4-4da1-84a9-1b6dca5bca4b",
   "metadata": {},
   "outputs": [
    {
     "data": {
      "text/plain": [
       "[1, 2, 3, 4, 5]"
      ]
     },
     "execution_count": 28,
     "metadata": {},
     "output_type": "execute_result"
    }
   ],
   "source": [
    "# 6.Ans\n",
    "list1=[1,2,2,3,3,3,4,4,4,5]\n",
    "newlist=[]\n",
    "for i in set(list1):\n",
    "    newlist.append(i)\n",
    "newlist"
   ]
  },
  {
   "cell_type": "code",
   "execution_count": 31,
   "id": "79356732-6f99-42f7-9264-2f71e865de85",
   "metadata": {},
   "outputs": [
    {
     "name": "stdin",
     "output_type": "stream",
     "text": [
      "Enter a Numer 5\n"
     ]
    },
    {
     "data": {
      "text/plain": [
       "120"
      ]
     },
     "execution_count": 31,
     "metadata": {},
     "output_type": "execute_result"
    }
   ],
   "source": [
    "# 7.Ans\n",
    "n=int(input(\"Enter a Numer\"))\n",
    "ans=1\n",
    "for i in range(1,n+1):\n",
    "    ans=ans*i\n",
    "ans\n",
    "    \n",
    "    "
   ]
  },
  {
   "cell_type": "code",
   "execution_count": 38,
   "id": "154a6da8-9cd6-441b-b956-ba053b9ebc56",
   "metadata": {},
   "outputs": [
    {
     "name": "stdin",
     "output_type": "stream",
     "text": [
      "Enter a Numer 10\n"
     ]
    }
   ],
   "source": [
    "# 8.Ans\n",
    "n=int(input(\"Enter a Numer\"))\n",
    "\n",
    "def isPrime(n):\n",
    "    for i in range(2,n-1):\n",
    "        if(n%i==0):\n",
    "            print(\"Not Prime\")\n",
    "            break\n",
    "            \n",
    "        "
   ]
  },
  {
   "cell_type": "code",
   "execution_count": 39,
   "id": "aa0b419b-8c78-478a-b7a1-1846f737b5ce",
   "metadata": {},
   "outputs": [
    {
     "name": "stdout",
     "output_type": "stream",
     "text": [
      "Not Prime\n"
     ]
    }
   ],
   "source": [
    "isPrime(n)\n"
   ]
  },
  {
   "cell_type": "code",
   "execution_count": 51,
   "id": "75934efa-f3e4-466e-ad3e-f69c4ccb0b42",
   "metadata": {},
   "outputs": [
    {
     "data": {
      "text/plain": [
       "[1, 2, 2, 2, 2, 2, 2, 3, 3, 3, 4, 4, 4, 4, 5, 5, 5, 5, 6, 8, 21, 76, 78]"
      ]
     },
     "execution_count": 51,
     "metadata": {},
     "output_type": "execute_result"
    }
   ],
   "source": [
    "# 9.Ans\n",
    "list1=[3,3,4,5,5,6,2,2,2,2,4,21,1,2,2,3,4,4,5,5,78,8,76]\n",
    "list1.sort()\n",
    "list1"
   ]
  },
  {
   "cell_type": "code",
   "execution_count": 52,
   "id": "0f7af1d7-594c-4e2a-916a-3aac6f64ddf5",
   "metadata": {},
   "outputs": [
    {
     "name": "stdout",
     "output_type": "stream",
     "text": [
      "247\n"
     ]
    }
   ],
   "source": [
    "# 10.Ans\n",
    "list1=[3,3,4,5,5,6,2,2,2,2,4,21,1,2,2,3,4,4,5,5,78,8,76]\n",
    "print(sum(list1))\n"
   ]
  },
  {
   "cell_type": "code",
   "execution_count": 59,
   "id": "620d1792-9720-4f62-abcb-568f1ce98a2f",
   "metadata": {},
   "outputs": [
    {
     "data": {
      "text/plain": [
       "[4, 5, 6]"
      ]
     },
     "execution_count": 59,
     "metadata": {},
     "output_type": "execute_result"
    }
   ],
   "source": [
    "# 11.Ans\n",
    "list1=[2,3,4,5,6]\n",
    "list2=[4,5,5,6,7,8]\n",
    "common_ele=(set(list1).intersection(list2))\n",
    "common=[]\n",
    "for i in set(list1).intersection(list2):\n",
    "    common.append(i)\n",
    "common\n"
   ]
  },
  {
   "cell_type": "code",
   "execution_count": 64,
   "id": "ba193d55-20b6-4c91-9ecf-2787ab20e752",
   "metadata": {},
   "outputs": [
    {
     "name": "stdout",
     "output_type": "stream",
     "text": [
      "String is an Anagram\n"
     ]
    }
   ],
   "source": [
    "# 12.Ans\n",
    "str1=\"rishi\"\n",
    "str2=\"irish\"\n",
    "if sorted(str1)==sorted(str2):\n",
    "    print(\"String is an Anagram\")\n",
    "else:\n",
    "    print(\"String is not an Anagram\")\n"
   ]
  },
  {
   "cell_type": "code",
   "execution_count": 70,
   "id": "15e69137-dcc9-48cd-a28f-55c640e2f2de",
   "metadata": {},
   "outputs": [
    {
     "name": "stdout",
     "output_type": "stream",
     "text": [
      "All the permutations of the string are: \n",
      "ABC\n",
      "ACB\n",
      "BAC\n",
      "BCA\n",
      "CBA\n",
      "CAB\n"
     ]
    }
   ],
   "source": [
    "# 13.Ans\n",
    "def permutations(string,start,end):\n",
    "    current=0\n",
    "    if(start==end-1):\n",
    "        print(string)\n",
    "    else:\n",
    "        for current in range(start,end):\n",
    "            x=[]\n",
    "            x[:0]=string\n",
    "            # x=list(string)\n",
    "            temp=x[start]\n",
    "            x[start]=x[current]\n",
    "            x[current]=temp\n",
    "            \n",
    "            permutations(\"\".join(x),start+1,end)\n",
    "            temp=x[start]\n",
    "            x[start]=x[current]\n",
    "            x[current]=temp\n",
    "        \n",
    "    \n",
    "str1 = \"ABC\"  \n",
    "n = len(str1);  \n",
    "print(\"All the permutations of the string are: \");  \n",
    "permutations(str1,0,n);  "
   ]
  },
  {
   "cell_type": "code",
   "execution_count": 75,
   "id": "ee6f3303-eb13-4fd9-a79f-198c97484431",
   "metadata": {},
   "outputs": [
    {
     "name": "stdout",
     "output_type": "stream",
     "text": [
      "0\n",
      "1\n",
      "2\n",
      "3\n",
      "5\n"
     ]
    }
   ],
   "source": [
    "def fib(n):\n",
    "        first=0\n",
    "        second=1\n",
    "        print(first)\n",
    "        for i in range(n-1):\n",
    "            third=first+second\n",
    "            print(third)\n",
    "            first=second\n",
    "            second=third\n",
    "fib(5)          "
   ]
  },
  {
   "cell_type": "code",
   "execution_count": 84,
   "id": "0838a6b9-7fdb-4053-a03b-c853b45eefb6",
   "metadata": {},
   "outputs": [
    {
     "name": "stdout",
     "output_type": "stream",
     "text": [
      "7\n"
     ]
    }
   ],
   "source": [
    "# 15. Write a program to find the median of a list of numbers.\n",
    "list3=[4,5,6,6,7,8,9,9,10]\n",
    "import statistics\n",
    "print(statistics.median(list3))\n"
   ]
  },
  {
   "cell_type": "code",
   "execution_count": 98,
   "id": "d07a2ded-3932-4bbd-923d-500cb24a2fab",
   "metadata": {},
   "outputs": [
    {
     "name": "stdout",
     "output_type": "stream",
     "text": [
      "Given list is not sorted\n"
     ]
    }
   ],
   "source": [
    "#16.Ans\n",
    "list4=[2,3,4,2,4]\n",
    "newlist=list4\n",
    "if (newlist==list4.sort()):\n",
    "    print(\"Given list is sorted\")\n",
    "else:\n",
    "    print(\"Given list is not sorted\")\n"
   ]
  },
  {
   "cell_type": "code",
   "execution_count": 99,
   "id": "af6bc271-9e58-4c43-92a7-c8921b22069d",
   "metadata": {},
   "outputs": [
    {
     "data": {
      "text/plain": [
       "[4, 5, 6]"
      ]
     },
     "execution_count": 99,
     "metadata": {},
     "output_type": "execute_result"
    }
   ],
   "source": [
    "# 17.Ans\n",
    "list1=[2,3,4,5,6]\n",
    "list2=[4,5,5,6,7,8]\n",
    "common=[]\n",
    "for i in set(list1).intersection(list2):\n",
    "    common.append(i)\n",
    "common"
   ]
  },
  {
   "cell_type": "code",
   "execution_count": 104,
   "id": "3a44b35c-ee30-446e-bec7-00fdec1b0d39",
   "metadata": {},
   "outputs": [
    {
     "name": "stdout",
     "output_type": "stream",
     "text": [
      "12\n"
     ]
    }
   ],
   "source": [
    "# 18.Ans\n",
    "list7=[-1, 8, 1, -7, -1, 10, 1, -5]\n",
    "def maxsubarray(list7):\n",
    "    max_sum=-1\n",
    "    for i in range(len(list7)):\n",
    "        for j in range(i,len(list7)):\n",
    "            a=sum(list7[i:j+1])\n",
    "            if a>max_sum:\n",
    "                max_sum=a\n",
    "    print(max_sum)\n",
    "maxsubarray(list7)\n",
    "                \n",
    "    \n",
    "    "
   ]
  },
  {
   "cell_type": "code",
   "execution_count": 121,
   "id": "d1ea9e81-37a2-43ac-80a3-967fdd1ec29b",
   "metadata": {},
   "outputs": [
    {
     "name": "stdout",
     "output_type": "stream",
     "text": [
      "Rsh Rj\n"
     ]
    }
   ],
   "source": [
    "# 19.Ans\n",
    "str1=\"Rishi Raj\"\n",
    "str3=\"\"\n",
    "for i in str1:\n",
    "    if i=='a' or i=='e' or i=='i' or i=='o' or i=='u':\n",
    "        continue\n",
    "    else:\n",
    "        str3+=i\n",
    "print(str3)      \n",
    "# list9=[]\n",
    "# list9[:0]=str1\n",
    "# list9\n",
    "# list9.remove('i')\n",
    "# list9"
   ]
  },
  {
   "cell_type": "code",
   "execution_count": 126,
   "id": "a42f80c1-c3e0-491d-aef8-140711f8ace7",
   "metadata": {},
   "outputs": [
    {
     "data": {
      "text/plain": [
       "['you?', 'are', 'how', 'there', 'Hi']"
      ]
     },
     "execution_count": 126,
     "metadata": {},
     "output_type": "execute_result"
    }
   ],
   "source": [
    "# 20.Ans\n",
    "sentence=\"Hi there how are you?\"\n",
    "my_list=sentence.split(\" \")\n",
    "my_list[::-1]\n"
   ]
  },
  {
   "cell_type": "code",
   "execution_count": 127,
   "id": "7478ef74-b37e-4841-8f58-d06ea6d9ae3c",
   "metadata": {},
   "outputs": [
    {
     "name": "stdout",
     "output_type": "stream",
     "text": [
      "String is an Anagram\n"
     ]
    }
   ],
   "source": [
    "# 21.Ans\n",
    "str1=\"rishi\"\n",
    "str2=\"irish\"\n",
    "if sorted(str1)==sorted(str2):\n",
    "    print(\"String is an Anagram\")\n",
    "else:\n",
    "    print(\"String is not an Anagram\")"
   ]
  },
  {
   "cell_type": "code",
   "execution_count": 130,
   "id": "4e597222-ac3b-44e0-8146-a7d9ef6191ea",
   "metadata": {},
   "outputs": [
    {
     "data": {
      "text/plain": [
       "'R'"
      ]
     },
     "execution_count": 130,
     "metadata": {},
     "output_type": "execute_result"
    }
   ],
   "source": [
    "# 22>Ans\n",
    "str1=\"Rissshhiii\"\n",
    "unique_string=\"\".join(set(str1))\n",
    "unique_string[0]"
   ]
  },
  {
   "cell_type": "code",
   "execution_count": 140,
   "id": "2cbbb4c3-2abe-4509-b03b-d212d0cdd9e4",
   "metadata": {},
   "outputs": [
    {
     "name": "stdout",
     "output_type": "stream",
     "text": [
      "7\n",
      "7\n"
     ]
    }
   ],
   "source": [
    "# 23.Ans\n",
    "import math\n",
    "def primefactor(n):\n",
    "    while n%2==0:\n",
    "        print(2)\n",
    "        n=n/2\n",
    "    for i in range(3, int(math.sqrt(n))+1,2):\n",
    "        while n%i==0:\n",
    "            print(i)\n",
    "            n=n/i\n",
    "    if n>2:\n",
    "        print(n)\n",
    "primefactor(49)"
   ]
  },
  {
   "cell_type": "code",
   "execution_count": null,
   "id": "35d3a227-15cf-47f3-8b8b-b665fe1460ac",
   "metadata": {},
   "outputs": [],
   "source": [
    "n=8\n",
    "while n>0:\n",
    "    if n%2==0:\n",
    "        count=1\n",
    "        n=n/2\n",
    "    else:\n",
    "        print(\"Not a power of 2\")\n",
    "        break\n",
    "if count==1:\n",
    "    print(\"Power of 2\")"
   ]
  },
  {
   "cell_type": "code",
   "execution_count": null,
   "id": "868d1876-1020-471c-9c83-b5985c6c2947",
   "metadata": {},
   "outputs": [],
   "source": [
    "# 25.Ans\n",
    "list1=[2,3,4,5,6]\n",
    "list2=[4,5,5,6,7,8]\n",
    "list3=list1+list2\n",
    "list3.sort()\n",
    "list3\n",
    "    "
   ]
  },
  {
   "cell_type": "code",
   "execution_count": 9,
   "id": "506e9fc8-5ea4-4968-a410-949d3c383d4b",
   "metadata": {},
   "outputs": [
    {
     "data": {
      "text/plain": [
       "1"
      ]
     },
     "execution_count": 9,
     "metadata": {},
     "output_type": "execute_result"
    }
   ],
   "source": [
    "# 26.Ans\n",
    "list10=[1,1,1,1,2,2,3,3,4,4,5,5,5,6,6,67,8,8,9]\n",
    "import statistics as stat\n",
    "stat.mode(list10)\n",
    "    \n",
    "    "
   ]
  },
  {
   "cell_type": "code",
   "execution_count": 10,
   "id": "526ac3fd-3d66-4244-b5c8-52011d8fc310",
   "metadata": {},
   "outputs": [
    {
     "name": "stdout",
     "output_type": "stream",
     "text": [
      "3.1622776601683795\n"
     ]
    }
   ],
   "source": [
    "# 28.Ans\n",
    "n=10\n",
    "import math\n",
    "print(math.sqrt(n))"
   ]
  },
  {
   "cell_type": "code",
   "execution_count": 2,
   "id": "810f6d32-8301-4d29-98eb-cafe9b627885",
   "metadata": {},
   "outputs": [
    {
     "name": "stdout",
     "output_type": "stream",
     "text": [
      "Not\n"
     ]
    }
   ],
   "source": [
    "# 29.Ans\n",
    "name=\"Yash 2frg3^* garg\"\n",
    "name=\"is3h&#3is\"\n",
    "# i=0\n",
    "# j=len(name)-1\n",
    "# name=list(name)\n",
    "# while(i<j):\n",
    "#     if(name[i].isalnum()==1 and name[j].isalnum()==1):\n",
    "#         temp=name[i]\n",
    "#         name[i]=name[j]\n",
    "#         name[j]=temp\n",
    "#         i=i+1\n",
    "#         j=j-1\n",
    "#     elif(name[i].isalnum()==1):\n",
    "#         j=j-1\n",
    "#     elif(name[j].isalnum()==1):\n",
    "#         i=i+1\n",
    "#     else:\n",
    "#         i=i+1\n",
    "#         j=j-1\n",
    "import re\n",
    "name1 = re.sub(r'[^a-zA-Z0-9]', '', name)\n",
    "\n",
    "if name1==name[::-1]:\n",
    "    print(\"Palindrome\")\n",
    "else:\n",
    "    print(\"Not\")"
   ]
  },
  {
   "cell_type": "code",
   "execution_count": 6,
   "id": "ecd5c8b3-233b-4fc8-be8a-626a22291fe3",
   "metadata": {},
   "outputs": [
    {
     "name": "stdout",
     "output_type": "stream",
     "text": [
      "1\n"
     ]
    }
   ],
   "source": [
    "nums=[4,5,1,2,3]\n",
    "minimum=1000000000000\n",
    "for i in nums:\n",
    "    if i<minimum:\n",
    "        minimum=i\n",
    "print(minimum)\n",
    "    "
   ]
  },
  {
   "cell_type": "markdown",
   "id": "750c6380-0347-47c4-abf8-6989f8ad523a",
   "metadata": {},
   "source": [
    "nums2=[1,3,4,5,6,7]\n",
    "for i in nums2:\n"
   ]
  },
  {
   "cell_type": "code",
   "execution_count": 8,
   "id": "b5bc5ae8-8098-4870-a157-9ba9bd72a232",
   "metadata": {},
   "outputs": [
    {
     "name": "stdout",
     "output_type": "stream",
     "text": [
      "10\n"
     ]
    }
   ],
   "source": [
    "nums2=[1,3,4,5,6,7]\n",
    "sum=0\n",
    "for i in nums2:\n",
    "    if i%2==0:\n",
    "        sum+=i\n",
    "print(sum)"
   ]
  },
  {
   "cell_type": "markdown",
   "id": "e563ef73-239f-4bb4-95a3-c909ae7977d8",
   "metadata": {},
   "source": [
    " "
   ]
  },
  {
   "cell_type": "code",
   "execution_count": 13,
   "id": "a956204a-70ae-43b0-a8b3-ce676ea86b95",
   "metadata": {},
   "outputs": [
    {
     "name": "stdout",
     "output_type": "stream",
     "text": [
      "5.0625\n"
     ]
    }
   ],
   "source": [
    "# 32.Ans\n",
    "def pow(n,x):\n",
    "    result=1\n",
    "    for i in range(n):\n",
    "        result=result*i\n",
    "#     if n==1:\n",
    "#         return x\n",
    "#     elif n==0:\n",
    "#         return 1\n",
    "#     else:\n",
    "#         b=pow(x,n/2)\n",
    "#         result=b*b\n",
    "#         if(n%2==0):\n",
    "#             return result\n",
    "#         else:\n",
    "#             return result*x\n",
    "# print(pow(2,3))\n"
   ]
  },
  {
   "cell_type": "code",
   "execution_count": 2,
   "id": "b550819e-9855-4b4c-8a60-2c3f9dddf186",
   "metadata": {},
   "outputs": [],
   "source": [
    "# 33.Ans\n",
    "nums=[4,3,2,6,7,6,6,6,63,3,3,3,32,2,2,2]\n",
    "def remove_duplicate(nums):\n",
    "    newlist=[]\n",
    "    for num in nums:\n",
    "        if num not in newlist:\n",
    "            newlist.append(num)\n",
    "    return newlist"
   ]
  },
  {
   "cell_type": "code",
   "execution_count": 3,
   "id": "5f317428-8233-4149-879c-ec33bfd4cc38",
   "metadata": {},
   "outputs": [
    {
     "data": {
      "text/plain": [
       "[4, 3, 2, 6, 7, 63, 32]"
      ]
     },
     "execution_count": 3,
     "metadata": {},
     "output_type": "execute_result"
    }
   ],
   "source": [
    "remove_duplicate(nums)"
   ]
  },
  {
   "cell_type": "code",
   "execution_count": null,
   "id": "c7128010-e0c6-4831-85f4-cc92e9bf50bb",
   "metadata": {},
   "outputs": [],
   "source": [
    "# 34.Ans"
   ]
  },
  {
   "cell_type": "code",
   "execution_count": 9,
   "id": "ea9f208d-f25e-486a-8126-371502541d3f",
   "metadata": {},
   "outputs": [
    {
     "name": "stdout",
     "output_type": "stream",
     "text": [
      "Given number is square root\n",
      "Not a square root\n"
     ]
    }
   ],
   "source": [
    "# 35.Ans\n",
    "import math\n",
    "def square_root(n):\n",
    "    for i in range(1,int(math.sqrt(n))+1):\n",
    "        if i*i==n:\n",
    "            print(\"Given number is square root\")\n",
    "            return\n",
    "            \n",
    "    print(\"Not a square root\")\n",
    "square_root(9)\n",
    "square_root(10)"
   ]
  },
  {
   "cell_type": "code",
   "execution_count": null,
   "id": "2fb89e1b-868b-43c4-9aff-abe0b0c94d37",
   "metadata": {},
   "outputs": [],
   "source": [
    "# 36.ans\n",
    "nums=[2,5,2,1,7,8,9]\n",
    "def product(nums):\n",
    "    prod=1\n",
    "    for i in nums:\n",
    "        prod*=i\n",
    "    print(prod)\n",
    "product(nums)"
   ]
  },
  {
   "cell_type": "code",
   "execution_count": 25,
   "id": "89fad28e-92fa-4b9f-8396-9a6319e871b0",
   "metadata": {},
   "outputs": [
    {
     "data": {
      "text/plain": [
       "'Khan is name My'"
      ]
     },
     "execution_count": 25,
     "metadata": {},
     "output_type": "execute_result"
    }
   ],
   "source": [
    "# 37.Ans\n",
    "sentence=\"My name is Khan\"\n",
    "dir(sentence)\n",
    "sen_list=sentence.split(\" \")\n",
    "\" \".join(sen_list[::-1])\n"
   ]
  },
  {
   "cell_type": "code",
   "execution_count": 29,
   "id": "91f1f931-e597-42c2-97a9-490a64d82270",
   "metadata": {},
   "outputs": [
    {
     "name": "stdout",
     "output_type": "stream",
     "text": [
      "5\n"
     ]
    }
   ],
   "source": [
    "# 38.Ans\n",
    "nums=[1,2,3,4,6,7,8,9]\n",
    "for i in range(1,len(nums)+1):\n",
    "    if nums.count(i)==0:\n",
    "        print(i)\n",
    " "
   ]
  },
  {
   "cell_type": "code",
   "execution_count": 35,
   "id": "14383b7c-e787-4048-89b2-ec3ed66bf9ca",
   "metadata": {},
   "outputs": [
    {
     "name": "stdout",
     "output_type": "stream",
     "text": [
      "20.0\n"
     ]
    }
   ],
   "source": [
    "# 39.Ans\n",
    "n=1890\n",
    "sum=0\n",
    "while(n>0):\n",
    "    sum=sum+n%10\n",
    "    n=n/10\n",
    "print(sum)\n",
    "    \n",
    "    \n",
    "\n"
   ]
  },
  {
   "cell_type": "code",
   "execution_count": 36,
   "id": "3e05e016-2cf6-4a25-8206-0a5b935c8e36",
   "metadata": {},
   "outputs": [
    {
     "name": "stdout",
     "output_type": "stream",
     "text": [
      "Not a Palindrome\n"
     ]
    }
   ],
   "source": [
    "# 40.Ans\n",
    "# 2.Ans\n",
    "str=\"Rishi\"\n",
    "if str==str[::-1]:\n",
    "    print(\"Given String is a Palindrome\")\n",
    "else:\n",
    "    print(\"Not a Palindrome\")"
   ]
  },
  {
   "cell_type": "code",
   "execution_count": 37,
   "id": "ab7019eb-c502-41ce-a90c-2876a01dbaf5",
   "metadata": {},
   "outputs": [
    {
     "name": "stdout",
     "output_type": "stream",
     "text": [
      "4\n"
     ]
    }
   ],
   "source": [
    "# 41.Ans\n",
    "nums=[1,2,3,5,6,7,9,10]\n",
    "# nums=[1,2,3,4,6,7,8,9]\n",
    "minimum=max(nums)+1\n",
    "for i in range(1,len(nums)+1):\n",
    "    if nums.count(i)==0:\n",
    "        minimum=min(minimum,i)\n",
    "print(minimum)\n",
    "        "
   ]
  },
  {
   "cell_type": "code",
   "execution_count": 41,
   "id": "f4d4e6c1-913d-4672-b5a5-2f8c39d1826e",
   "metadata": {},
   "outputs": [
    {
     "name": "stdout",
     "output_type": "stream",
     "text": [
      "4\n"
     ]
    }
   ],
   "source": [
    "# 43.Ans\n",
    "nums=[4,3,2,6,7,6,6,6,63,3,3,3,32,2,2,2]\n",
    "def occurr(nums,element):\n",
    "    print(nums.count(element))\n",
    "occurr(nums,6)\n"
   ]
  },
  {
   "cell_type": "code",
   "execution_count": 14,
   "id": "cee66226-470a-4e16-b91d-968dec886704",
   "metadata": {},
   "outputs": [
    {
     "name": "stdout",
     "output_type": "stream",
     "text": [
      "28\n",
      "Perfect Number\n"
     ]
    }
   ],
   "source": [
    "# 44.Ans\n",
    "#Perfect Number Code\n",
    "sum=1\n",
    "n=28\n",
    "for i in range(2,n):\n",
    "    if n%i==0:\n",
    "        sum=sum+i\n",
    "if sum==n:\n",
    "    print(sum)\n",
    "    print(\"Perfect Number\")\n",
    "else:\n",
    "    print(sum)\n",
    "    print(\"Not a perfect number\")\n",
    "    \n"
   ]
  },
  {
   "cell_type": "code",
   "execution_count": 4,
   "id": "dfa3b492-0505-4fe6-aa60-e4b0f4acab6c",
   "metadata": {},
   "outputs": [
    {
     "data": {
      "text/plain": [
       "'Rishe'"
      ]
     },
     "execution_count": 4,
     "metadata": {},
     "output_type": "execute_result"
    }
   ],
   "source": [
    "# 45.Ans\n",
    "name=\"Rishiiieeeeeeei\"\n",
    "name1=[]\n",
    "for i in name:\n",
    "    if i not in name1:\n",
    "        name1.append(i)\n",
    "\"\".join(name1)"
   ]
  },
  {
   "cell_type": "code",
   "execution_count": null,
   "id": "d1bf576b-7b2a-490e-b521-1efff987ca61",
   "metadata": {},
   "outputs": [],
   "source": [
    "# 46.Ans\n",
    "nums=[1,2,3,5,6,7,9,10]\n",
    "# nums=[1,2,3,4,6,7,8,9]\n",
    "minimum=max(nums)+1\n",
    "for i in range(1,len(nums)+1):\n",
    "    if nums.count(i)==0:\n",
    "        minimum=min(minimum,i)\n",
    "print(minimum)"
   ]
  }
 ],
 "metadata": {
  "kernelspec": {
   "display_name": "Python 3 (ipykernel)",
   "language": "python",
   "name": "python3"
  },
  "language_info": {
   "codemirror_mode": {
    "name": "ipython",
    "version": 3
   },
   "file_extension": ".py",
   "mimetype": "text/x-python",
   "name": "python",
   "nbconvert_exporter": "python",
   "pygments_lexer": "ipython3",
   "version": "3.10.8"
  }
 },
 "nbformat": 4,
 "nbformat_minor": 5
}
