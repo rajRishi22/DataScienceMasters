{
 "cells": [
  {
   "cell_type": "code",
   "execution_count": 65,
   "id": "3dab48ac-e4c5-49af-985e-3105955e37f3",
   "metadata": {},
   "outputs": [
    {
     "name": "stdout",
     "output_type": "stream",
     "text": [
      "11.8\n",
      "20.2\n"
     ]
    }
   ],
   "source": [
    "import statistics as stat\n",
    "from scipy import stats\n",
    "from scipy.stats import f_oneway\n",
    "import numpy as np\n",
    "import pandas as pd\n",
    "\n",
    "\n",
    "Region_A= [10, 15, 12, 8, 14]\n",
    "Region_B=[18, 20, 16, 22, 25]\n",
    "print(stat.mean(Region_A))\n",
    "print(stat.mean(Region_B))\n",
    "\n",
    "\n"
   ]
  },
  {
   "cell_type": "code",
   "execution_count": 66,
   "id": "597e381d-51bb-4221-bc1e-53851a9adbbb",
   "metadata": {},
   "outputs": [
    {
     "name": "stdout",
     "output_type": "stream",
     "text": [
      "3.7\n"
     ]
    }
   ],
   "source": [
    "# 2.Ans\n",
    "rating=[4, 5, 2, 3, 5, 4, 3, 2, 4, 5]\n",
    "print(stat.mean(rating)) "
   ]
  },
  {
   "cell_type": "code",
   "execution_count": 67,
   "id": "6e3f4395-d9a1-4af0-87ec-178e02201755",
   "metadata": {},
   "outputs": [
    {
     "name": "stdout",
     "output_type": "stream",
     "text": [
      "5750.0\n",
      "5500\n"
     ]
    }
   ],
   "source": [
    "# 3.Ans\n",
    "Department_A=[5000, 6000, 5500, 7000]\n",
    "Department_B=[4500, 5500, 5800, 6000, 5200]\n",
    "print(stat.median(Department_A))\n",
    "print(stat.median(Department_B))"
   ]
  },
  {
   "cell_type": "code",
   "execution_count": 68,
   "id": "9a4723ff-8e55-4c9f-b72a-d608e3534501",
   "metadata": {},
   "outputs": [
    {
     "name": "stdout",
     "output_type": "stream",
     "text": [
      "The Range of stock prices is 24.8 to 26.1\n"
     ]
    }
   ],
   "source": [
    "# 4.Ans\n",
    "prices=[25.5, 24.8, 26.1, 25.3, 24.9]\n",
    "print(\"The Range of stock prices is \"+ str(min(prices)) +\" to \"+str(max(prices)))"
   ]
  },
  {
   "cell_type": "code",
   "execution_count": 69,
   "id": "22976287-1354-469e-8101-78a12847e229",
   "metadata": {},
   "outputs": [
    {
     "name": "stdout",
     "output_type": "stream",
     "text": [
      "89.2\n",
      "86.6\n"
     ]
    }
   ],
   "source": [
    "# 5.Ans\n",
    "Group_A=[85, 90, 92, 88, 91]\n",
    "Group_B=[82, 88, 90, 86, 87]\n",
    "print(stat.mean(Group_A))\n",
    "print(stat.mean(Group_B))\n",
    "\n",
    "# We have to perform a t test now to find significant diff in mean or not"
   ]
  },
  {
   "cell_type": "code",
   "execution_count": 70,
   "id": "0bce747e-c7a6-422f-b74a-a0affc09a62e",
   "metadata": {},
   "outputs": [
    {
     "data": {
      "text/plain": [
       "0.8757511375750133"
      ]
     },
     "execution_count": 70,
     "metadata": {},
     "output_type": "execute_result"
    }
   ],
   "source": [
    "# 6.Ans\n",
    "expense= [10, 15, 12, 8, 14]\n",
    "sales=[25, 30, 28, 20, 26]\n",
    "stat.correlation(expense,sales)"
   ]
  },
  {
   "cell_type": "code",
   "execution_count": 71,
   "id": "fe1e2c52-32c0-4ead-85cd-0d2d881e99b6",
   "metadata": {},
   "outputs": [
    {
     "name": "stdout",
     "output_type": "stream",
     "text": [
      "8.591246929842246\n"
     ]
    }
   ],
   "source": [
    "# 7.Ans\n",
    "height=[160, 170, 165, 155, 175, 180, 170]\n",
    "print(stat.stdev(height))"
   ]
  },
  {
   "cell_type": "code",
   "execution_count": 72,
   "id": "a5c198be-1268-4b56-9a25-544b590f7c07",
   "metadata": {},
   "outputs": [
    {
     "name": "stdout",
     "output_type": "stream",
     "text": [
      "<built-in method index of LinearRegression object at 0x7ff3f1569980>\n",
      "<built-in method count of LinearRegression object at 0x7ff3f1569980>\n",
      "-0.46808510638297873\n",
      "8.595744680851064\n",
      "Job satisfaction is -0.46808510638297873 *Tenure +8.595744680851064\n"
     ]
    }
   ],
   "source": [
    "# 8.Ans\n",
    "# import statistics as stats\n",
    "Tenure = [2, 3, 5, 4, 6, 2, 4]\n",
    "Satisfaction = [7, 8, 6, 9, 5, 7, 6]\n",
    "conclusion=stat.linear_regression(Tenure,Satisfaction)\n",
    "print(conclusion.index)\n",
    "print(conclusion.count)\n",
    "print(conclusion.slope)\n",
    "print(conclusion.intercept)\n",
    "#y=mx+c; dependent-Value=slope*Independent_value+intercept\n",
    "\n",
    "print(\"Job satisfaction is \"+str(conclusion.slope)+\" *Tenure +\"+str(conclusion.intercept))\n",
    "\n",
    "\n"
   ]
  },
  {
   "cell_type": "code",
   "execution_count": 73,
   "id": "149dd162-60cd-4df5-9af4-49243489acf7",
   "metadata": {},
   "outputs": [
    {
     "name": "stdout",
     "output_type": "stream",
     "text": [
      "P value is0.003949772803445326:Null hypothesis rejected\n"
     ]
    }
   ],
   "source": [
    "# 9.Ans\n",
    "\n",
    "med_A = [10, 12, 14, 11, 13]\n",
    "med_B = [15, 17, 16, 14, 18]\n",
    "a, p_val = f_oneway (med_A, med_B)\n",
    "alpha=0.05\n",
    "if p_val<alpha:\n",
    "    print(f\"P value is{p_val}:Null hypothesis rejected\")\n",
    "else:\n",
    "    print(f\"P value is{p_val}:Failed to reject Null \")\n"
   ]
  },
  {
   "cell_type": "code",
   "execution_count": 74,
   "id": "bdf52ad5-da43-466e-bf46-9b9bc51d2411",
   "metadata": {},
   "outputs": [
    {
     "name": "stdout",
     "output_type": "stream",
     "text": [
      "8.75\n"
     ]
    }
   ],
   "source": [
    "# 10.Ans\n",
    "ratings=[8, 9, 7, 6, 8, 10, 9, 8, 7, 8]\n",
    "print(np.percentile(ratings,75))\n"
   ]
  },
  {
   "cell_type": "code",
   "execution_count": 75,
   "id": "b3685367-7f01-4397-ac79-3882449a8096",
   "metadata": {},
   "outputs": [
    {
     "name": "stdout",
     "output_type": "stream",
     "text": [
      "P value is 0.19077595151110102 :Null Hypo Cannot be Rejected\n"
     ]
    }
   ],
   "source": [
    "# 11.Ans\n",
    "# from scipy import test\n",
    "weights=[10.2, 9.8, 10.0, 10.5, 10.3, 10.1]\n",
    "result=stats.ttest_1samp(weights,10)\n",
    "alpha=0.05\n",
    "if result.pvalue<alpha:\n",
    "    print(f\"P value is {result.pvalue} :Null Hypo Rejected\")\n",
    "else:\n",
    "    print(f\"P value is {result.pvalue} :Null Hypo Cannot be Rejected\")\n"
   ]
  },
  {
   "cell_type": "code",
   "execution_count": 76,
   "id": "039522a2-82d3-4c8e-aada-f99bfa65650c",
   "metadata": {},
   "outputs": [
    {
     "name": "stdout",
     "output_type": "stream",
     "text": [
      "Null hyotheisis cannot be rejected1.0\n"
     ]
    }
   ],
   "source": [
    "# 12.Ans\n",
    "A = [100, 120, 110, 90, 95]\n",
    "B = [80, 85, 90, 95, 100]\n",
    "ans=stats.chi2_contingency(A,B)\n",
    "alpha=0.05\n",
    "if ans[1] <alpha:\n",
    "    print(\"Null hypothesis rejected\"+str(ans[1]))\n",
    "else:\n",
    "    print(\"Null hyotheisis cannot be rejected\"+str(ans[1]))\n"
   ]
  },
  {
   "cell_type": "code",
   "execution_count": 77,
   "id": "ac5af210-dbe8-4111-935d-9d407a77e934",
   "metadata": {},
   "outputs": [
    {
     "name": "stdout",
     "output_type": "stream",
     "text": [
      "(0.0, 1.0, 0, array([100., 120., 110.,  90.,  95.]))\n"
     ]
    }
   ],
   "source": [
    "print(stats.chi2_contingency(A,B))\n"
   ]
  },
  {
   "cell_type": "code",
   "execution_count": 78,
   "id": "ef44332b-0f10-43c9-acef-1151fa14c2dd",
   "metadata": {},
   "outputs": [
    {
     "name": "stderr",
     "output_type": "stream",
     "text": [
      "/tmp/ipykernel_224/3585686704.py:3: DeprecationWarning: Use of keyword argument `alpha` for method `interval` is deprecated. Use first positional argument or keyword argument `confidence` instead.\n",
      "  stats.t.interval(alpha = .95 , df = len(survey)-1,\n"
     ]
    },
    {
     "data": {
      "text/plain": [
       "(7.043561120599888, 8.756438879400113)"
      ]
     },
     "execution_count": 78,
     "metadata": {},
     "output_type": "execute_result"
    }
   ],
   "source": [
    "# 13.Ans\n",
    "survey = [7, 9, 6, 8, 10, 7, 8, 9, 7, 8]\n",
    "stats.t.interval(alpha = .95 , df = len(survey)-1,\n",
    "                 loc = np.mean(survey),\n",
    "                 scale = stats.sem(survey))\n"
   ]
  },
  {
   "cell_type": "code",
   "execution_count": 80,
   "id": "fa2e6404-f7f4-42c5-9f27-61df3487415e",
   "metadata": {},
   "outputs": [
    {
     "name": "stdout",
     "output_type": "stream",
     "text": [
      "Required equation is Temperature*0.5 + -2.9000000000000004\n",
      "P value is 0.19417134561205843\n"
     ]
    }
   ],
   "source": [
    "# 14.Ans\n",
    "#Here we will form a simple linear regression equation and then find the p value\n",
    "Temperature=[20, 22, 23, 19, 21] \n",
    "Performance=[8, 7, 9, 6, 8] \n",
    "lr=stats.linregress(Temperature,Performance)\n",
    "print(f\"Required equation is Temperature*{lr.slope} + {lr.intercept}\")\n",
    "print(f\"P value is {lr.pvalue}\")\n"
   ]
  },
  {
   "cell_type": "code",
   "execution_count": 81,
   "id": "fb3a308d-d40a-4a6d-8e3a-97009f124c51",
   "metadata": {},
   "outputs": [
    {
     "name": "stdout",
     "output_type": "stream",
     "text": [
      "P value is 0.380836480306712 :Null Hypo Cannot be Rejected\n"
     ]
    }
   ],
   "source": [
    "# 15.Ans\n",
    "Group_A=[4, 3, 5, 2, 4]\n",
    "Group_B= [3, 2, 4, 3, 3]\n",
    "test=stats.mannwhitneyu(Group_A,Group_B)\n",
    "if test.pvalue< 0.05:\n",
    "    print(f\"P value is {test.pvalue} :Null Hypo Rejected\")\n",
    "else:\n",
    "    print(f\"P value is {test.pvalue} :Null Hypo Cannot be Rejected\")\n",
    "    "
   ]
  },
  {
   "cell_type": "code",
   "execution_count": 82,
   "id": "78384fb1-604b-4b27-9fb4-e2a87fd2674a",
   "metadata": {},
   "outputs": [
    {
     "name": "stdout",
     "output_type": "stream",
     "text": [
      "The IQR is20.0\n"
     ]
    }
   ],
   "source": [
    "# 16.Ans\n",
    "ages=[25, 30, 35, 40, 45, 50, 55, 60, 65, 70]\n",
    "print(f\"The IQR is{stats.iqr(ages,interpolation='midpoint')}\")"
   ]
  },
  {
   "cell_type": "code",
   "execution_count": 83,
   "id": "5a724755-76a2-4997-863e-5ba65492689f",
   "metadata": {},
   "outputs": [
    {
     "name": "stdout",
     "output_type": "stream",
     "text": [
      "P value is 0.007840333026249539 :Null Hypo Rejected\n"
     ]
    }
   ],
   "source": [
    "# 17.Ans\n",
    "A = [0.85, 0.80, 0.82, 0.87, 0.83]\n",
    "B = [0.78, 0.82, 0.84, 0.80, 0.79]\n",
    "C = [0.90, 0.88, 0.89, 0.86, 0.87]\n",
    "test=stats.kruskal(A,B,C)\n",
    "if test.pvalue< 0.05:\n",
    "    print(f\"P value is {test.pvalue} :Null Hypo Rejected\")\n",
    "else:\n",
    "    print(f\"P value is {test.pvalue} :Null Hypo Cannot be Rejected\")"
   ]
  },
  {
   "cell_type": "code",
   "execution_count": 84,
   "id": "a2d0fb81-b0fe-4673-b07c-ab992ca73570",
   "metadata": {},
   "outputs": [
    {
     "name": "stdout",
     "output_type": "stream",
     "text": [
      "Required equation is Price*-3.506097560975609 + 136.3719512195122\n",
      "P value is 0.03850178234753776\n"
     ]
    }
   ],
   "source": [
    "# 18.Ans\n",
    "# Here we will form a simple linear regression equation and then find the p value\n",
    "Price = [10, 15, 12, 8, 14]\n",
    "Sales = [100, 80, 90, 110, 95]\n",
    "lr=stats.linregress(Price,Sales)\n",
    "print(f\"Required equation is Price*{lr.slope} + {lr.intercept}\")\n",
    "print(f\"P value is {lr.pvalue}\")"
   ]
  },
  {
   "cell_type": "code",
   "execution_count": 85,
   "id": "fbfede65-41fd-4d8a-a017-0d1d55fa220f",
   "metadata": {},
   "outputs": [
    {
     "name": "stdout",
     "output_type": "stream",
     "text": [
      "The standard error of mean is : 0.30550504633038933\n"
     ]
    }
   ],
   "source": [
    "survey = [7, 8, 9, 6, 8, 7, 9, 7, 8, 7]\n",
    "print(f\"The standard error of mean is : {stats.sem(survey)}\")"
   ]
  },
  {
   "cell_type": "code",
   "execution_count": 86,
   "id": "94961962-d834-4b50-8fc2-5df978fbeac9",
   "metadata": {},
   "outputs": [
    {
     "name": "stdout",
     "output_type": "stream",
     "text": [
      "Required equation is ad_exp*1.1524390243902436 + 12.201219512195125\n",
      "P value is 0.051583194188217135\n"
     ]
    }
   ],
   "source": [
    "# 20.Ans\n",
    "# Here we will form a simple linear regression equation and then find the p value\n",
    "ad_exp =  [10, 15, 12, 8, 14]\n",
    "sales =  [25, 30, 28, 20, 26]\n",
    "\n",
    "lr=stats.linregress(ad_exp,sales)\n",
    "print(f\"Required equation is ad_exp*{lr.slope} + {lr.intercept}\")\n",
    "print(f\"P value is {lr.pvalue}\")"
   ]
  },
  {
   "cell_type": "code",
   "execution_count": null,
   "id": "e4ea6a23-b715-45a9-9e51-e11575fab372",
   "metadata": {},
   "outputs": [],
   "source": []
  }
 ],
 "metadata": {
  "kernelspec": {
   "display_name": "Python 3 (ipykernel)",
   "language": "python",
   "name": "python3"
  },
  "language_info": {
   "codemirror_mode": {
    "name": "ipython",
    "version": 3
   },
   "file_extension": ".py",
   "mimetype": "text/x-python",
   "name": "python",
   "nbconvert_exporter": "python",
   "pygments_lexer": "ipython3",
   "version": "3.10.8"
  }
 },
 "nbformat": 4,
 "nbformat_minor": 5
}
